{
 "cells": [
  {
   "cell_type": "code",
   "execution_count": null,
   "id": "d44f6715",
   "metadata": {},
   "outputs": [],
   "source": [
    "import requests\n",
    "from bs4 import BeautifulSoup\n",
    "import pandas as pd\n",
    "\n",
    "# URL base de la página\n",
    "base_url = 'https://www.latorre.com.gt/abarrotes?page={}'\n",
    "\n",
    "# Número máximo de páginas que deseas analizar\n",
    "numero_de_paginas = 10 # Puedes ajustar esto según tus necesidades\n",
    "\n",
    "# Clase específica del cuadro que deseas extraer\n",
    "clase_cuadro = 'vtex-product-summary-2-x-container vtex-product-summary-2-x-container--shelf-product--custom vtex-product-summary-2-x-containerNormal vtex-product-summary-2-x-containerNormal--shelf-product--custom overflow-hidden br3 h-100 w-100 flex flex-column justify-between center tc'\n",
    "\n",
    "# Lista para almacenar los datos extraídos\n",
    "datos = []\n",
    "\n",
    "# Bucle a través de las páginas\n",
    "for pagina in range(1, numero_de_paginas + 1):\n",
    "    # Construir la URL para la página actual\n",
    "    url = base_url.format(pagina)\n",
    "\n",
    "    # Realizar la solicitud GET a la página web\n",
    "    response = requests.get(url)\n",
    "\n",
    "    # Verificar si la solicitud fue exitosa (código de estado 200)\n",
    "    if response.status_code == 200:\n",
    "        # Parsear el contenido de la página con BeautifulSoup\n",
    "        soup = BeautifulSoup(response.text, 'html.parser')\n",
    "\n",
    "        # Encontrar elementos con la clase especificada\n",
    "        elementos_con_clase = soup.find_all(class_=clase_cuadro)\n",
    "\n",
    "        # Extraer la información de cada elemento\n",
    "        for elemento in elementos_con_clase:\n",
    "            # Encuentra el primer elemento con la clase especificada\n",
    "            marca_producto = elemento.find(class_='vtex-product-summary-2-x-productBrand vtex-product-summary-2-x-brandName t-body').text.strip()\n",
    "\n",
    "            # Encuentra el segundo elemento con la clase especificada\n",
    "            contenido_producto = elemento.find(class_='contenidoneto').text.strip()\n",
    "\n",
    "            # Encuentra el tercer elemento con la clase especificada\n",
    "            precio_producto = elemento.find(class_='custom-price-unit').text.strip()\n",
    "\n",
    "            # Agregar la información a la lista de datos\n",
    "            datos.append([marca_producto, contenido_producto, precio_producto])\n",
    "\n",
    "    else:\n",
    "        print(f'Error al acceder a la página {pagina}. Código de estado: {response.status_code}')\n",
    "\n",
    "# Crear un DataFrame con los datos recopilados\n",
    "df = pd.DataFrame(datos, columns=['Marca', 'Contenido', 'Precio'])\n",
    "\n",
    "# Imprimir el DataFrame\n",
    "print(df)\n"
   ]
  }
 ],
 "metadata": {
  "kernelspec": {
   "display_name": "Python 3 (ipykernel)",
   "language": "python",
   "name": "python3"
  },
  "language_info": {
   "codemirror_mode": {
    "name": "ipython",
    "version": 3
   },
   "file_extension": ".py",
   "mimetype": "text/x-python",
   "name": "python",
   "nbconvert_exporter": "python",
   "pygments_lexer": "ipython3",
   "version": "3.9.13"
  }
 },
 "nbformat": 4,
 "nbformat_minor": 5
}
